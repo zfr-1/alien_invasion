{
  "nbformat": 4,
  "nbformat_minor": 0,
  "metadata": {
    "kernelspec": {
      "name": "python3",
      "display_name": "Python 3"
    },
    "colab": {
      "name": "GAN入门示例 .ipynb",
      "provenance": [],
      "collapsed_sections": [],
      "include_colab_link": true
    },
    "accelerator": "GPU"
  },
  "cells": [
    {
      "cell_type": "markdown",
      "metadata": {
        "id": "view-in-github",
        "colab_type": "text"
      },
      "source": [
        "<a href=\"https://colab.research.google.com/github/zfr-1/alien_invasion/blob/master/GAN%E5%85%A5%E9%97%A8%E7%A4%BA%E4%BE%8B_.ipynb\" target=\"_parent\"><img src=\"https://colab.research.google.com/assets/colab-badge.svg\" alt=\"Open In Colab\"/></a>"
      ]
    },
    {
      "cell_type": "code",
      "metadata": {
        "id": "lA5ln4Ku3PUn",
        "colab_type": "code",
        "colab": {}
      },
      "source": [
        "import tensorflow as tf\n",
        "from tensorflow import keras \n",
        "from tensorflow.keras import layers\n",
        "import matplotlib.pyplot as plt\n",
        "import numpy as np\n",
        "import glob\n",
        "%matplotlib inline\n",
        "import os\n",
        "from time import time"
      ],
      "execution_count": 0,
      "outputs": []
    },
    {
      "cell_type": "code",
      "metadata": {
        "id": "64j4E7JF3PUz",
        "colab_type": "code",
        "colab": {}
      },
      "source": [
        "tf.__version__"
      ],
      "execution_count": 0,
      "outputs": []
    },
    {
      "cell_type": "code",
      "metadata": {
        "id": "xvFD8sSv3PU_",
        "colab_type": "code",
        "colab": {}
      },
      "source": [
        "(train_images, train_labels), (_, _) = keras.datasets.mnist.load_data()"
      ],
      "execution_count": 0,
      "outputs": []
    },
    {
      "cell_type": "code",
      "metadata": {
        "id": "nPtNnGdo3PVJ",
        "colab_type": "code",
        "colab": {}
      },
      "source": [
        "train_images.shape"
      ],
      "execution_count": 0,
      "outputs": []
    },
    {
      "cell_type": "code",
      "metadata": {
        "id": "Qc5JGmWR3PVR",
        "colab_type": "code",
        "colab": {}
      },
      "source": [
        "train_images.dtype"
      ],
      "execution_count": 0,
      "outputs": []
    },
    {
      "cell_type": "code",
      "metadata": {
        "id": "GAVfHJOC3PVa",
        "colab_type": "code",
        "colab": {}
      },
      "source": [
        "train_images = train_images.reshape(train_images.shape[0],28, 28,1)"
      ],
      "execution_count": 0,
      "outputs": []
    },
    {
      "cell_type": "code",
      "metadata": {
        "id": "GnucZmV_3PVh",
        "colab_type": "code",
        "colab": {}
      },
      "source": [
        "train_images.shape"
      ],
      "execution_count": 0,
      "outputs": []
    },
    {
      "cell_type": "code",
      "metadata": {
        "id": "S945FZtG3PVn",
        "colab_type": "code",
        "colab": {}
      },
      "source": [
        "train_images = train_images.astype('float32')"
      ],
      "execution_count": 0,
      "outputs": []
    },
    {
      "cell_type": "code",
      "metadata": {
        "id": "96cSsJE_3PVt",
        "colab_type": "code",
        "colab": {}
      },
      "source": [
        "train_images = (train_images-127.5)/127.5"
      ],
      "execution_count": 0,
      "outputs": []
    },
    {
      "cell_type": "code",
      "metadata": {
        "id": "mQ-1xav_3PVz",
        "colab_type": "code",
        "colab": {}
      },
      "source": [
        "BATCH_SIZE = 256\n",
        "BUFFLE_SIZE = 60000"
      ],
      "execution_count": 0,
      "outputs": []
    },
    {
      "cell_type": "code",
      "metadata": {
        "id": "2G0KMs373PV6",
        "colab_type": "code",
        "colab": {}
      },
      "source": [
        "datasets = tf.data.Dataset.from_tensor_slices(train_images)"
      ],
      "execution_count": 0,
      "outputs": []
    },
    {
      "cell_type": "code",
      "metadata": {
        "id": "3gtOaYLP3PWB",
        "colab_type": "code",
        "colab": {}
      },
      "source": [
        "datasets"
      ],
      "execution_count": 0,
      "outputs": []
    },
    {
      "cell_type": "code",
      "metadata": {
        "id": "tbGRVKuw3PWI",
        "colab_type": "code",
        "colab": {}
      },
      "source": [
        "datasets = datasets.shuffle(BUFFLE_SIZE).batch(BATCH_SIZE)"
      ],
      "execution_count": 0,
      "outputs": []
    },
    {
      "cell_type": "code",
      "metadata": {
        "id": "RqxWNt_m3PWO",
        "colab_type": "code",
        "colab": {}
      },
      "source": [
        "datasets"
      ],
      "execution_count": 0,
      "outputs": []
    },
    {
      "cell_type": "markdown",
      "metadata": {
        "id": "fJeCkVTw3PWT",
        "colab_type": "text"
      },
      "source": [
        "## 编写生成器模型"
      ]
    },
    {
      "cell_type": "code",
      "metadata": {
        "id": "60zoois43PWT",
        "colab_type": "code",
        "colab": {}
      },
      "source": [
        "def generator_model():\n",
        "    \"\"\"模型的创建\"\"\"\n",
        "    model = keras.Sequential()\n",
        "    model.add(layers.Dense(256, input_shape=(100,), use_bias=False))\n",
        "    model.add(layers.BatchNormalization())\n",
        "    model.add(layers.LeakyReLU()) # 激活层\n",
        "    \n",
        "    model = keras.Sequential()\n",
        "    model.add(layers.Dense(512,use_bias=False))\n",
        "    model.add(layers.BatchNormalization())\n",
        "    model.add(layers.LeakyReLU()) # 激活层\n",
        "    \n",
        "    model.add(layers.Dense(28*28*1, use_bias=False, activation='tanh'))\n",
        "    model.add(layers.BatchNormalization())\n",
        "    \n",
        "    model.add(layers.Reshape((28, 28, 1)))\n",
        "    \n",
        "    return model\n",
        "    \n",
        "    \n",
        "    "
      ],
      "execution_count": 0,
      "outputs": []
    },
    {
      "cell_type": "markdown",
      "metadata": {
        "id": "h4YwIZyH3PWa",
        "colab_type": "text"
      },
      "source": [
        "## 创建判别器模型"
      ]
    },
    {
      "cell_type": "code",
      "metadata": {
        "id": "Z8wqaQAE3PWb",
        "colab_type": "code",
        "colab": {}
      },
      "source": [
        "def discriminator_model():\n",
        "    \"\"\"生成判别器模型\"\"\"\n",
        "    model = keras.Sequential()\n",
        "    model.add(layers.Flatten())\n",
        "    \n",
        "    \n",
        "    model.add(layers.Dense(512, use_bias=False))\n",
        "    model.add(layers.BatchNormalization())\n",
        "    model.add(layers.LeakyReLU()) # 激活层\n",
        "    \n",
        "    \n",
        "    model.add(layers.Dense(256, use_bias=False))\n",
        "    model.add(layers.BatchNormalization())\n",
        "    model.add(layers.LeakyReLU()) # 激活层\n",
        "    \n",
        "    \n",
        "    model.add(layers.Dense(1))\n",
        "    return model"
      ],
      "execution_count": 0,
      "outputs": []
    },
    {
      "cell_type": "code",
      "metadata": {
        "id": "MrrNfVIy3PWf",
        "colab_type": "code",
        "colab": {}
      },
      "source": [
        "# 初始化交叉熵函数\n",
        "cross_entropy = keras.losses.BinaryCrossentropy(from_logits=True)"
      ],
      "execution_count": 0,
      "outputs": []
    },
    {
      "cell_type": "code",
      "metadata": {
        "id": "4Akg0wXx3PWk",
        "colab_type": "code",
        "colab": {}
      },
      "source": [
        "def discriminate_loss(real_out, fake_out):\n",
        "    \"\"\"定义判别模型的损失函数\"\"\"\n",
        "    real_loss = cross_entropy(tf.ones_like(real_out), real_out)\n",
        "    fake_loss = cross_entropy(tf.zeros_like(fake_out), fake_out)\n",
        "    return real_loss+fake_loss"
      ],
      "execution_count": 0,
      "outputs": []
    },
    {
      "cell_type": "code",
      "metadata": {
        "id": "JnmlEUFx3PWo",
        "colab_type": "code",
        "colab": {}
      },
      "source": [
        "def generator_loss(fake_out):\n",
        "    \"\"\"定义生成模型的损失函数\"\"\"\n",
        "    return cross_entropy(tf.ones_like(fake_out), fake_out)"
      ],
      "execution_count": 0,
      "outputs": []
    },
    {
      "cell_type": "code",
      "metadata": {
        "id": "gV5A7Pmf3PWs",
        "colab_type": "code",
        "colab": {}
      },
      "source": [
        "# 定义生成模型的优化器\n",
        "generator_opt = keras.optimizers.Adam(learning_rate=1e-4)\n",
        "# 定义判别模型的优化器\n",
        "discriminator_opt = keras.optimizers.Adam(learning_rate=1e-4) "
      ],
      "execution_count": 0,
      "outputs": []
    },
    {
      "cell_type": "code",
      "metadata": {
        "id": "lxXUyw3S3PWw",
        "colab_type": "code",
        "colab": {}
      },
      "source": [
        "EPOCHS = 100\n",
        "noise_dim = 100\n",
        "\n",
        "num_exp_to_generate = 16\n",
        "seed = tf.random.normal([num_exp_to_generate, noise_dim])"
      ],
      "execution_count": 0,
      "outputs": []
    },
    {
      "cell_type": "code",
      "metadata": {
        "id": "DbL8ex_z3PW4",
        "colab_type": "code",
        "colab": {}
      },
      "source": [
        "discriminator = discriminator_model()"
      ],
      "execution_count": 0,
      "outputs": []
    },
    {
      "cell_type": "code",
      "metadata": {
        "id": "fgAHx7F43PW9",
        "colab_type": "code",
        "colab": {}
      },
      "source": [
        "generator = generator_model()"
      ],
      "execution_count": 0,
      "outputs": []
    },
    {
      "cell_type": "code",
      "metadata": {
        "id": "H4x4eQ0G3PXB",
        "colab_type": "code",
        "colab": {}
      },
      "source": [
        "def train_step(images):\n",
        "    \"\"\"训练一个批次的图片\"\"\"\n",
        "    noise = tf.random.normal([BATCH_SIZE, noise_dim])\n",
        "    \n",
        "     # 记录梯度\n",
        "    with  tf.GradientTape() as gen_tape , tf.GradientTape() as disc_tape:\n",
        "        real_out = discriminator(images, training=True)\n",
        "        gen_img = generator(noise, training=True)\n",
        "        fake_out = discriminator(gen_img, training=True)\n",
        "        gen_loss = generator_loss(fake_out)\n",
        "        disc_loss = discriminate_loss(real_out, fake_out)\n",
        "    gen_gradient = gen_tape.gradient(gen_loss, generator.trainable_variables)\n",
        "    disc_gradient = disc_tape.gradient(disc_loss, discriminator.trainable_variables)\n",
        "    generator_opt.apply_gradients(zip(gen_gradient, generator.trainable_variables))\n",
        "    discriminator_opt.apply_gradients(zip(disc_gradient, discriminator.trainable_variables))\n"
      ],
      "execution_count": 0,
      "outputs": []
    },
    {
      "cell_type": "code",
      "metadata": {
        "id": "jgVdYd1L3PXF",
        "colab_type": "code",
        "colab": {}
      },
      "source": [
        "def generate_plot_images(gen_model, test_noise):\n",
        "    pre_images = gen_model(test_noise, training=False)\n",
        "    fig = plt.figure(figsize=(4,4))\n",
        "    for i in range(pre_images.shape[0]):\n",
        "        plt.subplot(4,4,i+1)\n",
        "        plt.imshow((pre_images[i, :,:,0]+1)/2, cmap='gray')\n",
        "        plt.axis('off')\n",
        "    plt.show()"
      ],
      "execution_count": 0,
      "outputs": []
    },
    {
      "cell_type": "code",
      "metadata": {
        "id": "dJc4t51q3PXM",
        "colab_type": "code",
        "colab": {}
      },
      "source": [
        "def train(dataset, epochs):\n",
        "    epoch_start_time = time()\n",
        "    start_time = epoch_start_time\n",
        "    for epoch in range(epochs):\n",
        "        for batch in dataset:\n",
        "            train_step(batch)\n",
        "            print('.', end='')\n",
        "        epoch_end_time = time()\n",
        "        print(\"第\", epoch+1, \"轮训练已完成\")\n",
        "        print(\"耗时:\", epoch_end_time-epoch_start_time)\n",
        "        epoch_start_time = epoch_end_time\n",
        "        generate_plot_images(generator, seed)\n",
        "    print(\"所有训练已完成，共耗时：\", epoch_end_time-start_time)"
      ],
      "execution_count": 0,
      "outputs": []
    },
    {
      "cell_type": "code",
      "metadata": {
        "id": "7rUjk6863PXR",
        "colab_type": "code",
        "colab": {}
      },
      "source": [
        "train(datasets, EPOCHS)"
      ],
      "execution_count": 0,
      "outputs": []
    }
  ]
}